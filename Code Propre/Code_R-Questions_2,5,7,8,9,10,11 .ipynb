{
 "cells": [
  {
   "cell_type": "markdown",
   "metadata": {},
   "source": [
    "# Econometrie 2 : Beauté et couleur de peau en politique "
   ]
  },
  {
   "cell_type": "markdown",
   "metadata": {},
   "source": [
    "## Code R pour tester les modèles "
   ]
  },
  {
   "cell_type": "markdown",
   "metadata": {},
   "source": [
    "## Préliminaires"
   ]
  },
  {
   "cell_type": "markdown",
   "metadata": {},
   "source": [
    "### Données"
   ]
  },
  {
   "cell_type": "markdown",
   "metadata": {},
   "source": [
    "Ici on charge et on créé toutes les variables utiles"
   ]
  },
  {
   "cell_type": "code",
   "execution_count": 1,
   "metadata": {},
   "outputs": [],
   "source": [
    "setwd('C:/Users/Delanoue/Documents/ENSAE/S2-2A/Econométrie 2') #Pierre\n",
    "#setwd('C:/Users/User/Desktop/Econométrie 2') #Maxime\n",
    "\n",
    "data <- read.csv('data.csv', header = TRUE, sep=';')\n",
    "\n",
    "n = dim(data)[1]\n",
    "p = dim(data)[2]\n",
    "\n",
    "\n",
    "#Bon format variables \n",
    "data$ab=as.numeric(gsub(\",\", \".\", data$ab))\n",
    "data$voteshare = as.numeric(data$voteshare)\n",
    "data$winner2<-as.factor(data$winner2)\n",
    "\n",
    "#Creation Score de Beauté Moyen et Pondéré (après normalisation des notes individuelles)\n",
    "norm_if39 = (data$if39-mean(data$if39))/sqrt(var(data$if39))\n",
    "norm_im24 = (data$im24-mean(data$im24))/sqrt(var(data$im24))\n",
    "norm_nif24= (data$nif24-mean(data$nif24))/sqrt(var(data$nif24))\n",
    "norm_nim40 = (data$nim40-mean(data$nim40))/sqrt(var(data$nim40))\n",
    "\n",
    "z_score = data.frame(norm_if39=norm_if39,norm_im24=norm_im24,norm_nif24=norm_nif24,norm_nim40=norm_nim40)\n",
    "\n",
    "data$beaute_mean=as.numeric(rowMeans(z_score))\n",
    "data$beaute_pond = data$ab*((z_score$norm_im24+z_score$norm_if39)/2)+(1-data$ab)*((z_score$norm_nim40+z_score$norm_nif24)/2)"
   ]
  },
  {
   "cell_type": "code",
   "execution_count": 2,
   "metadata": {},
   "outputs": [
    {
     "data": {
      "text/html": [
       "<table>\n",
       "<thead><tr><th scope=col>electorate</th><th scope=col>candidate</th><th scope=col>party</th><th scope=col>firstpreferencevotes</th><th scope=col>ballotorder</th><th scope=col>totalvote</th><th scope=col>voteshare</th><th scope=col>incumbentcandidate</th><th scope=col>female</th><th scope=col>winner</th><th scope=col>...</th><th scope=col>forehead</th><th scope=col>nose</th><th scope=col>chin</th><th scope=col>im24</th><th scope=col>if39</th><th scope=col>nif24</th><th scope=col>nim40</th><th scope=col>winner2</th><th scope=col>beaute_mean</th><th scope=col>beaute_pond</th></tr></thead>\n",
       "<tbody>\n",
       "\t<tr><td>Araluen   </td><td>Carney    </td><td>CLP       </td><td>1945      </td><td>1         </td><td>3610      </td><td>67        </td><td>1         </td><td>1         </td><td>1         </td><td>...       </td><td>13        </td><td>31        </td><td>38        </td><td>6         </td><td>5         </td><td>5         </td><td>5         </td><td>2         </td><td> 0.2623078</td><td> 0.1455761</td></tr>\n",
       "\t<tr><td>Araluen   </td><td>Tyley     </td><td>Greens    </td><td> 333      </td><td>2         </td><td>3610      </td><td>17        </td><td>0         </td><td>0         </td><td>0         </td><td>...       </td><td>22        </td><td>31        </td><td>27        </td><td>3         </td><td>4         </td><td>1         </td><td>4         </td><td>0         </td><td>-1.1271285</td><td>-1.2188095</td></tr>\n",
       "\t<tr><td>Araluen   </td><td>Gaymor    </td><td>ALP       </td><td>1332      </td><td>3         </td><td>3610      </td><td>48        </td><td>0         </td><td>0         </td><td>0         </td><td>...       </td><td>28        </td><td>57        </td><td>63        </td><td>4         </td><td>2         </td><td>4         </td><td>3         </td><td>0         </td><td>-0.9975602</td><td>-0.9212304</td></tr>\n",
       "\t<tr><td>Blain     </td><td>McKinnon  </td><td>Greens    </td><td> 273      </td><td>1         </td><td>3725      </td><td>14        </td><td>0         </td><td>1         </td><td>0         </td><td>...       </td><td> 6        </td><td>22        </td><td>24        </td><td>6         </td><td>2         </td><td>4         </td><td>5         </td><td>0         </td><td>-0.2450922</td><td>-0.1823664</td></tr>\n",
       "\t<tr><td>Blain     </td><td>Mills     </td><td>CLP       </td><td>1933      </td><td>2         </td><td>3725      </td><td>63        </td><td>1         </td><td>0         </td><td>1         </td><td>...       </td><td>30        </td><td>30        </td><td>49        </td><td>6         </td><td>6         </td><td>8         </td><td>6         </td><td>2         </td><td> 0.9424763</td><td> 1.1256005</td></tr>\n",
       "\t<tr><td>Blain     </td><td>Dean      </td><td>IND       </td><td> 104      </td><td>3         </td><td>3725      </td><td> 5        </td><td>0         </td><td>0         </td><td>0         </td><td>...       </td><td>34        </td><td>40        </td><td>55        </td><td>3         </td><td>2         </td><td>3         </td><td>4         </td><td>0         </td><td>-1.1354185</td><td>-0.8672007</td></tr>\n",
       "</tbody>\n",
       "</table>\n"
      ],
      "text/latex": [
       "\\begin{tabular}{r|llllllllllllllllllllll}\n",
       " electorate & candidate & party & firstpreferencevotes & ballotorder & totalvote & voteshare & incumbentcandidate & female & winner & ... & forehead & nose & chin & im24 & if39 & nif24 & nim40 & winner2 & beaute\\_mean & beaute\\_pond\\\\\n",
       "\\hline\n",
       "\t Araluen    & Carney     & CLP        & 1945       & 1          & 3610       & 67         & 1          & 1          & 1          & ...        & 13         & 31         & 38         & 6          & 5          & 5          & 5          & 2          &  0.2623078 &  0.1455761\\\\\n",
       "\t Araluen    & Tyley      & Greens     &  333       & 2          & 3610       & 17         & 0          & 0          & 0          & ...        & 22         & 31         & 27         & 3          & 4          & 1          & 4          & 0          & -1.1271285 & -1.2188095\\\\\n",
       "\t Araluen    & Gaymor     & ALP        & 1332       & 3          & 3610       & 48         & 0          & 0          & 0          & ...        & 28         & 57         & 63         & 4          & 2          & 4          & 3          & 0          & -0.9975602 & -0.9212304\\\\\n",
       "\t Blain      & McKinnon   & Greens     &  273       & 1          & 3725       & 14         & 0          & 1          & 0          & ...        &  6         & 22         & 24         & 6          & 2          & 4          & 5          & 0          & -0.2450922 & -0.1823664\\\\\n",
       "\t Blain      & Mills      & CLP        & 1933       & 2          & 3725       & 63         & 1          & 0          & 1          & ...        & 30         & 30         & 49         & 6          & 6          & 8          & 6          & 2          &  0.9424763 &  1.1256005\\\\\n",
       "\t Blain      & Dean       & IND        &  104       & 3          & 3725       &  5         & 0          & 0          & 0          & ...        & 34         & 40         & 55         & 3          & 2          & 3          & 4          & 0          & -1.1354185 & -0.8672007\\\\\n",
       "\\end{tabular}\n"
      ],
      "text/markdown": [
       "\n",
       "electorate | candidate | party | firstpreferencevotes | ballotorder | totalvote | voteshare | incumbentcandidate | female | winner | ... | forehead | nose | chin | im24 | if39 | nif24 | nim40 | winner2 | beaute_mean | beaute_pond | \n",
       "|---|---|---|---|---|---|\n",
       "| Araluen    | Carney     | CLP        | 1945       | 1          | 3610       | 67         | 1          | 1          | 1          | ...        | 13         | 31         | 38         | 6          | 5          | 5          | 5          | 2          |  0.2623078 |  0.1455761 | \n",
       "| Araluen    | Tyley      | Greens     |  333       | 2          | 3610       | 17         | 0          | 0          | 0          | ...        | 22         | 31         | 27         | 3          | 4          | 1          | 4          | 0          | -1.1271285 | -1.2188095 | \n",
       "| Araluen    | Gaymor     | ALP        | 1332       | 3          | 3610       | 48         | 0          | 0          | 0          | ...        | 28         | 57         | 63         | 4          | 2          | 4          | 3          | 0          | -0.9975602 | -0.9212304 | \n",
       "| Blain      | McKinnon   | Greens     |  273       | 1          | 3725       | 14         | 0          | 1          | 0          | ...        |  6         | 22         | 24         | 6          | 2          | 4          | 5          | 0          | -0.2450922 | -0.1823664 | \n",
       "| Blain      | Mills      | CLP        | 1933       | 2          | 3725       | 63         | 1          | 0          | 1          | ...        | 30         | 30         | 49         | 6          | 6          | 8          | 6          | 2          |  0.9424763 |  1.1256005 | \n",
       "| Blain      | Dean       | IND        |  104       | 3          | 3725       |  5         | 0          | 0          | 0          | ...        | 34         | 40         | 55         | 3          | 2          | 3          | 4          | 0          | -1.1354185 | -0.8672007 | \n",
       "\n",
       "\n"
      ],
      "text/plain": [
       "  electorate candidate party  firstpreferencevotes ballotorder totalvote\n",
       "1 Araluen    Carney    CLP    1945                 1           3610     \n",
       "2 Araluen    Tyley     Greens  333                 2           3610     \n",
       "3 Araluen    Gaymor    ALP    1332                 3           3610     \n",
       "4 Blain      McKinnon  Greens  273                 1           3725     \n",
       "5 Blain      Mills     CLP    1933                 2           3725     \n",
       "6 Blain      Dean      IND     104                 3           3725     \n",
       "  voteshare incumbentcandidate female winner ... forehead nose chin im24 if39\n",
       "1 67        1                  1      1      ... 13       31   38   6    5   \n",
       "2 17        0                  0      0      ... 22       31   27   3    4   \n",
       "3 48        0                  0      0      ... 28       57   63   4    2   \n",
       "4 14        0                  1      0      ...  6       22   24   6    2   \n",
       "5 63        1                  0      1      ... 30       30   49   6    6   \n",
       "6  5        0                  0      0      ... 34       40   55   3    2   \n",
       "  nif24 nim40 winner2 beaute_mean beaute_pond\n",
       "1 5     5     2        0.2623078   0.1455761 \n",
       "2 1     4     0       -1.1271285  -1.2188095 \n",
       "3 4     3     0       -0.9975602  -0.9212304 \n",
       "4 4     5     0       -0.2450922  -0.1823664 \n",
       "5 8     6     2        0.9424763   1.1256005 \n",
       "6 3     4     0       -1.1354185  -0.8672007 "
      ]
     },
     "metadata": {},
     "output_type": "display_data"
    }
   ],
   "source": [
    "head(data)"
   ]
  },
  {
   "cell_type": "markdown",
   "metadata": {},
   "source": [
    "### Libraries"
   ]
  },
  {
   "cell_type": "code",
   "execution_count": 3,
   "metadata": {
    "scrolled": true
   },
   "outputs": [
    {
     "name": "stderr",
     "output_type": "stream",
     "text": [
      "Warning message:\n",
      "\"package 'stargazer' was built under R version 3.5.2\"\n",
      "Please cite as: \n",
      "\n",
      " Hlavac, Marek (2018). stargazer: Well-Formatted Regression and Summary Statistics Tables.\n",
      " R package version 5.2.2. https://CRAN.R-project.org/package=stargazer \n",
      "\n",
      "Warning message:\n",
      "\"package 'MASS' was built under R version 3.5.3\""
     ]
    }
   ],
   "source": [
    "library(stargazer)\n",
    "\n",
    "library(MASS)\n",
    "\n"
   ]
  },
  {
   "cell_type": "markdown",
   "metadata": {},
   "source": [
    "### Question 2"
   ]
  },
  {
   "cell_type": "code",
   "execution_count": 4,
   "metadata": {},
   "outputs": [
    {
     "data": {
      "text/html": [
       "<table>\n",
       "<thead><tr><th></th><th scope=col>im24</th><th scope=col>if39</th><th scope=col>nif24</th><th scope=col>nim40</th></tr></thead>\n",
       "<tbody>\n",
       "\t<tr><th scope=row>im24</th><td>1.0000000</td><td>0.5846583</td><td>0.6004501</td><td>0.4619999</td></tr>\n",
       "\t<tr><th scope=row>if39</th><td>0.5846583</td><td>1.0000000</td><td>0.4722480</td><td>0.4583180</td></tr>\n",
       "\t<tr><th scope=row>nif24</th><td>0.6004501</td><td>0.4722480</td><td>1.0000000</td><td>0.4601594</td></tr>\n",
       "\t<tr><th scope=row>nim40</th><td>0.4619999</td><td>0.4583180</td><td>0.4601594</td><td>1.0000000</td></tr>\n",
       "</tbody>\n",
       "</table>\n"
      ],
      "text/latex": [
       "\\begin{tabular}{r|llll}\n",
       "  & im24 & if39 & nif24 & nim40\\\\\n",
       "\\hline\n",
       "\tim24 & 1.0000000 & 0.5846583 & 0.6004501 & 0.4619999\\\\\n",
       "\tif39 & 0.5846583 & 1.0000000 & 0.4722480 & 0.4583180\\\\\n",
       "\tnif24 & 0.6004501 & 0.4722480 & 1.0000000 & 0.4601594\\\\\n",
       "\tnim40 & 0.4619999 & 0.4583180 & 0.4601594 & 1.0000000\\\\\n",
       "\\end{tabular}\n"
      ],
      "text/markdown": [
       "\n",
       "| <!--/--> | im24 | if39 | nif24 | nim40 | \n",
       "|---|---|---|---|\n",
       "| im24 | 1.0000000 | 0.5846583 | 0.6004501 | 0.4619999 | \n",
       "| if39 | 0.5846583 | 1.0000000 | 0.4722480 | 0.4583180 | \n",
       "| nif24 | 0.6004501 | 0.4722480 | 1.0000000 | 0.4601594 | \n",
       "| nim40 | 0.4619999 | 0.4583180 | 0.4601594 | 1.0000000 | \n",
       "\n",
       "\n"
      ],
      "text/plain": [
       "      im24      if39      nif24     nim40    \n",
       "im24  1.0000000 0.5846583 0.6004501 0.4619999\n",
       "if39  0.5846583 1.0000000 0.4722480 0.4583180\n",
       "nif24 0.6004501 0.4722480 1.0000000 0.4601594\n",
       "nim40 0.4619999 0.4583180 0.4601594 1.0000000"
      ]
     },
     "metadata": {},
     "output_type": "display_data"
    }
   ],
   "source": [
    "x_eval = data[,16:19]    #variables des évaluateurs\n",
    "cor = cor(x_eval, method = c(\"pearson\"))\n",
    "cor"
   ]
  },
  {
   "cell_type": "markdown",
   "metadata": {},
   "source": [
    "### Question 5"
   ]
  },
  {
   "cell_type": "markdown",
   "metadata": {},
   "source": [
    "5 -i)"
   ]
  },
  {
   "cell_type": "code",
   "execution_count": 10,
   "metadata": {},
   "outputs": [],
   "source": [
    "data$color_female=\"darkgreen\"\n",
    "data$color_female[data$female==1]=\"red\""
   ]
  },
  {
   "cell_type": "code",
   "execution_count": 18,
   "metadata": {},
   "outputs": [],
   "source": [
    "#Regression de voteshare sur beaute_mean\n",
    "ols0 = lm(voteshare ~ beaute_mean ,data = data)"
   ]
  },
  {
   "cell_type": "code",
   "execution_count": 15,
   "metadata": {},
   "outputs": [],
   "source": [
    "#stargazer(ols0)"
   ]
  },
  {
   "cell_type": "code",
   "execution_count": 35,
   "metadata": {},
   "outputs": [
    {
     "data": {
      "image/png": "[encoded data removed]",
      "text/plain": [
       "Plot with title \"Part des votes en fonction de la beauté moyenne\""
      ]
     },
     "metadata": {},
     "output_type": "display_data"
    }
   ],
   "source": [
    "#On affiche la regression\n",
    "plot(x =data$beaute_mean ,y = data$voteshare ,xlab = \"beauté moyenne\", ylab = \"part de vote\", col=data$color_female)\n",
    "title(main = \"Part des votes en fonction de la beauté moyenne\")\n",
    "abline(ols0$coefficients[1],ols0$coefficients[2])"
   ]
  },
  {
   "cell_type": "markdown",
   "metadata": {},
   "source": [
    "5 -ii)"
   ]
  },
  {
   "cell_type": "code",
   "execution_count": 19,
   "metadata": {},
   "outputs": [],
   "source": [
    "data_sortant = subset(data,incumbentcandidate==1)\n",
    "data_opposant = subset(data,incumbentcandidate==0)\n",
    "\n",
    "#Régressions\n",
    "ols1 = lm(voteshare~beaute_mean,data = data_sortant)\n",
    "ols2 = lm(voteshare~beaute_mean,data = data_opposant)"
   ]
  },
  {
   "cell_type": "code",
   "execution_count": 24,
   "metadata": {},
   "outputs": [],
   "source": [
    "#stargazer(ols1)\n",
    "#stargazer(ols2)"
   ]
  },
  {
   "cell_type": "code",
   "execution_count": 21,
   "metadata": {},
   "outputs": [
    {
     "data": {
      "image/png": "[encoded data removed]",
      "text/plain": [
       "Plot with title \"Candidat Non Sortant\""
      ]
     },
     "metadata": {},
     "output_type": "display_data"
    }
   ],
   "source": [
    "#On affiche les olsressions\n",
    "par(mfrow = c(1,2))\n",
    "\n",
    "#Candidats sortants\n",
    "plot(x =data_sortant$beaute_mean ,y = data_sortant$voteshare ,xlab = \"beauté moyenne\", ylab = \"part de vote\", col=data_sortant$color_female)\n",
    "title(main = \"Candidat Sortant\")\n",
    "abline(ols1$coefficients[1],ols1$coefficients[2])\n",
    "\n",
    "#Candidats opposants\n",
    "\n",
    "plot(x =data_opposant$beaute_mean ,y = data_opposant$voteshare ,xlab = \"beauté moyenne\", ylab = \"part de vote\", col=data_opposant$color_female)\n",
    "title(main = \"Candidat Non Sortant\")\n",
    "abline(ols2$coefficients[1],ols2$coefficients[2])"
   ]
  },
  {
   "cell_type": "markdown",
   "metadata": {},
   "source": [
    "#### 5 - iii)"
   ]
  },
  {
   "cell_type": "code",
   "execution_count": 25,
   "metadata": {},
   "outputs": [],
   "source": [
    "ols3 = lm(voteshare~skin,data = data)\n",
    "ols4 = lm(voteshare~skin,data = data_sortant)\n",
    "ols5 = lm(voteshare~skin,data = data_opposant)"
   ]
  },
  {
   "cell_type": "code",
   "execution_count": 29,
   "metadata": {
    "scrolled": true
   },
   "outputs": [],
   "source": [
    "#stargazer(ols3)\n",
    "#stargazer(ols4)\n",
    "#stargazer(ols5)"
   ]
  },
  {
   "cell_type": "code",
   "execution_count": 36,
   "metadata": {},
   "outputs": [
    {
     "data": {
      "image/png": "[encoded data removed]",
      "text/plain": [
       "Plot with title \"Part des votes en fonction de la couleur de peau\""
      ]
     },
     "metadata": {},
     "output_type": "display_data"
    }
   ],
   "source": [
    "#Tous les candidats\n",
    "plot(x = data$skin,y = data$voteshare,xlab = \"skin\", ylab = \"voteshare\",col=data$color_female)\n",
    "title(main = \"Part des votes en fonction de la couleur de peau\")\n",
    "abline(ols3$coefficients[1],ols3$coefficients[2])\n"
   ]
  },
  {
   "cell_type": "code",
   "execution_count": 34,
   "metadata": {},
   "outputs": [
    {
     "data": {
      "image/png": "[encoded data removed]",
      "text/plain": [
       "Plot with title \"Candidats non sortants\""
      ]
     },
     "metadata": {},
     "output_type": "display_data"
    }
   ],
   "source": [
    "par(mfrow = c(1,2))\n",
    "#Candidats sortants\n",
    "plot(x = data_sortant[,'skin'],y = data_sortant[,'voteshare'],xlab = \"skin\", ylab = \"voteshare\",col=data_sortant$color_female)\n",
    "title(main = \"Candidats sortants\")\n",
    "abline(ols4$coefficients[1],ols4$coefficients[2])\n",
    "\n",
    "#Candidats opposants\n",
    "\n",
    "plot(x = data_opposant[,'skin'],y = data_opposant[,'voteshare'],xlab = \"skin\", ylab = \"voteshare\",col=data_opposant$color_female)\n",
    "title(main = \"Candidats non sortants\")\n",
    "abline(ols5$coefficients[1],ols5$coefficients[2])"
   ]
  },
  {
   "cell_type": "markdown",
   "metadata": {},
   "source": [
    "#### 5 -iv)"
   ]
  },
  {
   "cell_type": "markdown",
   "metadata": {},
   "source": [
    "Quelle valleur pour scinder les groupes ? :"
   ]
  },
  {
   "cell_type": "code",
   "execution_count": 46,
   "metadata": {
    "scrolled": false
   },
   "outputs": [
    {
     "data": {
      "text/html": [
       "0.133000001"
      ],
      "text/latex": [
       "0.133000001"
      ],
      "text/markdown": [
       "0.133000001"
      ],
      "text/plain": [
       "[1] 0.133"
      ]
     },
     "metadata": {},
     "output_type": "display_data"
    },
    {
     "data": {
      "text/html": [
       "0.134000003"
      ],
      "text/latex": [
       "0.134000003"
      ],
      "text/markdown": [
       "0.134000003"
      ],
      "text/plain": [
       "[1] 0.134"
      ]
     },
     "metadata": {},
     "output_type": "display_data"
    }
   ],
   "source": [
    "sort(data$ab)[40]\n",
    "sort(data$ab)[41]"
   ]
  },
  {
   "cell_type": "markdown",
   "metadata": {},
   "source": [
    "Création des tables"
   ]
  },
  {
   "cell_type": "code",
   "execution_count": 50,
   "metadata": {},
   "outputs": [],
   "source": [
    "data_low_ab = subset(data,ab<0.134)\n",
    "data_high_ab = subset(data,ab>=0.134)\n",
    "\n",
    "data_low_sortant = subset(data_low_ab,incumbentcandidate==1)\n",
    "data_low_opposant = subset(data_low_ab,incumbentcandidate==0)\n",
    "data_high_sortant = subset(data_high_ab,incumbentcandidate==1)\n",
    "data_high_opposant = subset(data_high_ab,incumbentcandidate==0)"
   ]
  },
  {
   "cell_type": "markdown",
   "metadata": {},
   "source": [
    "Régressions pour les candidats dans des circonscriptions avec peu d'indigènes"
   ]
  },
  {
   "cell_type": "code",
   "execution_count": 51,
   "metadata": {},
   "outputs": [],
   "source": [
    "ols_low_ab1 = lm(voteshare~skin,data = data_low_ab)\n",
    "ols_low_ab2 = lm(voteshare~skin,data = data_low_sortant)\n",
    "ols_low_ab3 = lm(voteshare~skin,data = data_low_opposant)"
   ]
  },
  {
   "cell_type": "code",
   "execution_count": 53,
   "metadata": {},
   "outputs": [],
   "source": [
    "#stargazer(ols_low_ab1)\n",
    "#stargazer(ols_low_ab2)\n",
    "#stargazer(ols_low_ab3)"
   ]
  },
  {
   "cell_type": "code",
   "execution_count": 57,
   "metadata": {},
   "outputs": [
    {
     "data": {
      "image/png": "[encoded data removed]",
      "text/plain": [
       "Plot with title \"Candidats opposants\""
      ]
     },
     "metadata": {},
     "output_type": "display_data"
    }
   ],
   "source": [
    "par(mfrow = c(1,3))\n",
    "\n",
    "#Tous les candidats low ab\n",
    "plot(x = data_low_ab$skin,y = data_low_ab$voteshare,xlab = \"skin\", ylab = \"voteshare\",col=data_low_ab$color_female)\n",
    "title(main = \"Tous les candidats\")\n",
    "abline(ols_low_ab1$coefficients[1],ols_low_ab1$coefficients[2])\n",
    "\n",
    "#Candidats sortants low ab\n",
    "plot(x = data_low_sortant$skin,y = data_low_sortant$voteshare,xlab = \"skin\", ylab = \"voteshare\",col=data_low_ab$color_female)\n",
    "title(main = \"Candidats sortants\")\n",
    "abline(ols_low_ab2$coefficients[1],ols_low_ab2$coefficients[2])\n",
    "\n",
    "#Candidats opposants low ab\n",
    "plot(x = data_low_opposant$skin,y = data_low_opposant$voteshare,xlab = \"skin\", ylab = \"voteshare\",col=data_low_ab$color_female)\n",
    "title(main = \"Candidats opposants\")\n",
    "abline(ols_low_ab3$coefficients[1],ols_low_ab3$coefficients[2])"
   ]
  },
  {
   "cell_type": "markdown",
   "metadata": {},
   "source": [
    "Régressions pour les candidats dans des circonscriptions avec beaucoup d'indigènes"
   ]
  },
  {
   "cell_type": "code",
   "execution_count": 58,
   "metadata": {},
   "outputs": [],
   "source": [
    "ols_high_ab1 = lm(voteshare~skin,data = data_high_ab)\n",
    "ols_high_ab2 = lm(voteshare~skin,data = data_high_sortant)\n",
    "ols_high_ab3 = lm(voteshare~skin,data = data_high_opposant)"
   ]
  },
  {
   "cell_type": "code",
   "execution_count": null,
   "metadata": {},
   "outputs": [],
   "source": [
    "#stargazer(ols_high_ab1)\n",
    "#stargazer(ols_high_ab2)\n",
    "#stargazer(ols_high_ab3)"
   ]
  },
  {
   "cell_type": "code",
   "execution_count": 59,
   "metadata": {},
   "outputs": [
    {
     "data": {
      "image/png": "[encoded data removed]",
      "text/plain": [
       "Plot with title \"Candidats opposants\""
      ]
     },
     "metadata": {},
     "output_type": "display_data"
    }
   ],
   "source": [
    "par(mfrow = c(1,3))\n",
    "\n",
    "#Tous les candidats high ab\n",
    "plot(x = data_high_ab$skin,y = data_high_ab$voteshare,xlab = \"skin\", ylab = \"voteshare\",col=data_high_ab$color_female)\n",
    "title(main = \"Tous les candidats\")\n",
    "abline(ols_high_ab1$coefficients[1],ols_high_ab1$coefficients[2])\n",
    "\n",
    "#Candidats sortants high ab\n",
    "plot(x = data_high_sortant$skin,y = data_high_sortant$voteshare,xlab = \"skin\", ylab = \"voteshare\",col=data_high_ab$color_female)\n",
    "title(main = \"Candidats sortants\")\n",
    "abline(ols_high_ab2$coefficients[1],ols_high_ab2$coefficients[2])\n",
    "\n",
    "#Candidats opposants high ab\n",
    "plot(x = data_high_opposant$skin,y = data_high_opposant$voteshare,xlab = \"skin\", ylab = \"voteshare\",col=data_high_ab$color_female)\n",
    "title(main = \"Candidats opposants\")\n",
    "abline(ols_high_ab3$coefficients[1],ols_high_ab3$coefficients[2])"
   ]
  },
  {
   "cell_type": "markdown",
   "metadata": {},
   "source": [
    "### Question 7"
   ]
  },
  {
   "cell_type": "code",
   "execution_count": 81,
   "metadata": {},
   "outputs": [],
   "source": [
    "data['true_voteshare'] = data['voteshare']*(1-0.0375)\n",
    "data['Y'] = log(data['true_voteshare']/0.0375,2)"
   ]
  },
  {
   "cell_type": "markdown",
   "metadata": {},
   "source": [
    "7-i)"
   ]
  },
  {
   "cell_type": "code",
   "execution_count": 82,
   "metadata": {},
   "outputs": [],
   "source": [
    "reg1 = lm(Y~beaute_pond+incumbentcandidate+female+ballotorder,data = data)\n",
    "\n",
    "reg2 = lm(Y~beaute_pond+incumbentcandidate+female+ballotorder+beaute_pond*incumbentcandidate,data = data)\n",
    "\n",
    "reg3 = lm(Y~beaute_pond+incumbentcandidate+female+ballotorder+beaute_pond*female,data = data)\n",
    "\n",
    "reg4 = lm(Y~skin+ab+incumbentcandidate+female+ballotorder,data = data)\n",
    "\n",
    "reg5 = lm(Y~skin+ab+incumbentcandidate+female+ballotorder+skin*ab,data = data)\n",
    "\n",
    "reg6 = lm(Y~beaute_pond+skin+ab+incumbentcandidate+female+ballotorder+skin*ab,data = data)\n",
    "\n",
    "#ii)\n",
    "\n",
    "reg7 = lm(Y~beaute_pond+skin+ab+skin*ab,data = data)"
   ]
  },
  {
   "cell_type": "code",
   "execution_count": 83,
   "metadata": {},
   "outputs": [],
   "source": [
    "#stargazer(reg1)\n",
    "#stargazer(reg2)\n",
    "#stargazer(reg3)\n",
    "#stargazer(reg4)\n",
    "#stargazer(reg5)\n",
    "#stargazer(reg6)\n",
    "#stargazer(reg7)"
   ]
  },
  {
   "cell_type": "markdown",
   "metadata": {},
   "source": [
    "### Question 8"
   ]
  },
  {
   "cell_type": "code",
   "execution_count": 84,
   "metadata": {},
   "outputs": [],
   "source": [
    "normalized = function(x){ \n",
    "  moyenne = mean(x)\n",
    "  variance = var(x)\n",
    "  var_norm = (x-moyenne)/sqrt(variance)\n",
    "  var_norm\n",
    "}\n",
    "\n",
    "data$forehead_norm = normalized(as.numeric(data$forehead))\n",
    "data$nose_norm = normalized(as.numeric(data$nose))\n",
    "data$chin_norm = normalized(as.numeric(data$chin))"
   ]
  },
  {
   "cell_type": "code",
   "execution_count": 85,
   "metadata": {},
   "outputs": [],
   "source": [
    "#ii)Test de corrélation entre beaute_pond et les variables physiologiques\n",
    "reg = lm(beaute_pond~forehead+chin+nose+incumbentcandidate+female+ballotorder, data = data)"
   ]
  },
  {
   "cell_type": "code",
   "execution_count": 86,
   "metadata": {},
   "outputs": [
    {
     "data": {
      "text/plain": [
       "\n",
       "Call:\n",
       "lm(formula = res ~ incumbentcandidate + ballotorder + female, \n",
       "    data = data)\n",
       "\n",
       "Residuals:\n",
       "    Min      1Q  Median      3Q     Max \n",
       "-4.4448 -0.3812  0.1338  0.6477  1.8776 \n",
       "\n",
       "Coefficients:\n",
       "                     Estimate Std. Error t value Pr(>|t|)\n",
       "(Intercept)         6.064e-17  3.252e-01       0        1\n",
       "incumbentcandidate  5.854e-17  2.802e-01       0        1\n",
       "ballotorder        -5.399e-17  1.077e-01       0        1\n",
       "female              6.652e-17  2.629e-01       0        1\n",
       "\n",
       "Residual standard error: 1.109 on 75 degrees of freedom\n",
       "Multiple R-squared:  1.502e-32,\tAdjusted R-squared:  -0.04 \n",
       "F-statistic: 3.754e-31 on 3 and 75 DF,  p-value: 1\n"
      ]
     },
     "metadata": {},
     "output_type": "display_data"
    }
   ],
   "source": [
    "#Test de Sargan\n",
    "reg = lm(beaute_pond~forehead_norm+chin_norm+female+incumbentcandidate+ballotorder,data = data)\n",
    "X = predict(object = reg, newdata = data)\n",
    "data['instruments'] = X\n",
    "reg_1 = lm(Y~instruments + incumbentcandidate + female + ballotorder ,data = data)\n",
    "res = residuals(reg_1)\n",
    "reg_u = lm(res~incumbentcandidate+ballotorder+female,data = data)\n",
    "summary(reg_u)"
   ]
  },
  {
   "cell_type": "code",
   "execution_count": 87,
   "metadata": {},
   "outputs": [
    {
     "name": "stdout",
     "output_type": "stream",
     "text": [
      "\n",
      "% Table created by stargazer v.5.2.2 by Marek Hlavac, Harvard University. E-mail: hlavac at fas.harvard.edu\n",
      "% Date and time: ven., avr. 19, 2019 - 19:40:05\n",
      "\\begin{table}[!htbp] \\centering \n",
      "  \\caption{} \n",
      "  \\label{} \n",
      "\\begin{tabular}{@{\\extracolsep{5pt}}lc} \n",
      "\\\\[-1.8ex]\\hline \n",
      "\\hline \\\\[-1.8ex] \n",
      " & \\multicolumn{1}{c}{\\textit{Dependent variable:}} \\\\ \n",
      "\\cline{2-2} \n",
      "\\\\[-1.8ex] & beaute\\_pond \\\\ \n",
      "\\hline \\\\[-1.8ex] \n",
      " forehead\\_norm & $-$0.198$^{**}$ \\\\ \n",
      "  & (0.097) \\\\ \n",
      "  & \\\\ \n",
      " nose\\_norm & $-$0.098 \\\\ \n",
      "  & (0.117) \\\\ \n",
      "  & \\\\ \n",
      " chin\\_norm & 0.232$^{**}$ \\\\ \n",
      "  & (0.109) \\\\ \n",
      "  & \\\\ \n",
      " female & 0.524$^{***}$ \\\\ \n",
      "  & (0.185) \\\\ \n",
      "  & \\\\ \n",
      " incumbentcandidate & 0.260 \\\\ \n",
      "  & (0.185) \\\\ \n",
      "  & \\\\ \n",
      " ballotorder & $-$0.134$^{*}$ \\\\ \n",
      "  & (0.071) \\\\ \n",
      "  & \\\\ \n",
      " Constant & 0.037 \\\\ \n",
      "  & (0.214) \\\\ \n",
      "  & \\\\ \n",
      "\\hline \\\\[-1.8ex] \n",
      "Observations & 79 \\\\ \n",
      "R$^{2}$ & 0.269 \\\\ \n",
      "Adjusted R$^{2}$ & 0.208 \\\\ \n",
      "Residual Std. Error & 0.723 (df = 72) \\\\ \n",
      "F Statistic & 4.420$^{***}$ (df = 6; 72) \\\\ \n",
      "\\hline \n",
      "\\hline \\\\[-1.8ex] \n",
      "\\textit{Note:}  & \\multicolumn{1}{r}{$^{*}$p$<$0.1; $^{**}$p$<$0.05; $^{***}$p$<$0.01} \\\\ \n",
      "\\end{tabular} \n",
      "\\end{table} \n"
     ]
    }
   ],
   "source": [
    "#Les trois ensembles\n",
    "reg = lm(beaute_pond~forehead_norm+nose_norm+chin_norm+female+incumbentcandidate+ballotorder,data = data)\n",
    "stargazer(reg)"
   ]
  },
  {
   "cell_type": "markdown",
   "metadata": {},
   "source": [
    "#### 8-iii)"
   ]
  },
  {
   "cell_type": "code",
   "execution_count": 88,
   "metadata": {},
   "outputs": [],
   "source": [
    "reg = lm(beaute_pond~forehead_norm+chin_norm+female+incumbentcandidate+ballotorder,data = data)\n",
    "X = predict(object = reg, newdata = data)\n",
    "data$instruments = X"
   ]
  },
  {
   "cell_type": "code",
   "execution_count": 89,
   "metadata": {},
   "outputs": [
    {
     "data": {
      "text/plain": [
       "\n",
       "Call:\n",
       "lm(formula = res ~ incumbentcandidate + ballotorder + female, \n",
       "    data = data)\n",
       "\n",
       "Residuals:\n",
       "    Min      1Q  Median      3Q     Max \n",
       "-4.4448 -0.3812  0.1338  0.6477  1.8776 \n",
       "\n",
       "Coefficients:\n",
       "                     Estimate Std. Error t value Pr(>|t|)\n",
       "(Intercept)         6.064e-17  3.252e-01       0        1\n",
       "incumbentcandidate  5.854e-17  2.802e-01       0        1\n",
       "ballotorder        -5.399e-17  1.077e-01       0        1\n",
       "female              6.652e-17  2.629e-01       0        1\n",
       "\n",
       "Residual standard error: 1.109 on 75 degrees of freedom\n",
       "Multiple R-squared:  1.502e-32,\tAdjusted R-squared:  -0.04 \n",
       "F-statistic: 3.754e-31 on 3 and 75 DF,  p-value: 1\n"
      ]
     },
     "metadata": {},
     "output_type": "display_data"
    },
    {
     "name": "stdout",
     "output_type": "stream",
     "text": [
      "\n",
      "% Table created by stargazer v.5.2.2 by Marek Hlavac, Harvard University. E-mail: hlavac at fas.harvard.edu\n",
      "% Date and time: ven., avr. 19, 2019 - 19:40:05\n",
      "\\begin{table}[!htbp] \\centering \n",
      "  \\caption{} \n",
      "  \\label{} \n",
      "\\begin{tabular}{@{\\extracolsep{5pt}}lc} \n",
      "\\\\[-1.8ex]\\hline \n",
      "\\hline \\\\[-1.8ex] \n",
      " & \\multicolumn{1}{c}{\\textit{Dependent variable:}} \\\\ \n",
      "\\cline{2-2} \n",
      "\\\\[-1.8ex] & Y \\\\ \n",
      "\\hline \\\\[-1.8ex] \n",
      " instruments & 0.772 \\\\ \n",
      "  & (0.588) \\\\ \n",
      "  & \\\\ \n",
      " incumbentcandidate & 1.229$^{***}$ \\\\ \n",
      "  & (0.330) \\\\ \n",
      "  & \\\\ \n",
      " female & $-$0.227 \\\\ \n",
      "  & (0.421) \\\\ \n",
      "  & \\\\ \n",
      " ballotorder & $-$0.107 \\\\ \n",
      "  & (0.129) \\\\ \n",
      "  & \\\\ \n",
      " Constant & 9.594$^{***}$ \\\\ \n",
      "  & (0.328) \\\\ \n",
      "  & \\\\ \n",
      "\\hline \\\\[-1.8ex] \n",
      "Observations & 79 \\\\ \n",
      "R$^{2}$ & 0.323 \\\\ \n",
      "Adjusted R$^{2}$ & 0.287 \\\\ \n",
      "Residual Std. Error & 1.117 (df = 74) \\\\ \n",
      "F Statistic & 8.841$^{***}$ (df = 4; 74) \\\\ \n",
      "\\hline \n",
      "\\hline \\\\[-1.8ex] \n",
      "\\textit{Note:}  & \\multicolumn{1}{r}{$^{*}$p$<$0.1; $^{**}$p$<$0.05; $^{***}$p$<$0.01} \\\\ \n",
      "\\end{tabular} \n",
      "\\end{table} \n",
      "\n",
      "% Table created by stargazer v.5.2.2 by Marek Hlavac, Harvard University. E-mail: hlavac at fas.harvard.edu\n",
      "% Date and time: ven., avr. 19, 2019 - 19:40:06\n",
      "\\begin{table}[!htbp] \\centering \n",
      "  \\caption{} \n",
      "  \\label{} \n",
      "\\begin{tabular}{@{\\extracolsep{5pt}}lc} \n",
      "\\\\[-1.8ex]\\hline \n",
      "\\hline \\\\[-1.8ex] \n",
      " & \\multicolumn{1}{c}{\\textit{Dependent variable:}} \\\\ \n",
      "\\cline{2-2} \n",
      "\\\\[-1.8ex] & Y \\\\ \n",
      "\\hline \\\\[-1.8ex] \n",
      " instruments & 0.836 \\\\ \n",
      "  & (0.593) \\\\ \n",
      "  & \\\\ \n",
      " incumbentcandidate & 1.369$^{***}$ \\\\ \n",
      "  & (0.368) \\\\ \n",
      "  & \\\\ \n",
      " female & $-$0.156 \\\\ \n",
      "  & (0.429) \\\\ \n",
      "  & \\\\ \n",
      " ballotorder & $-$0.115 \\\\ \n",
      "  & (0.129) \\\\ \n",
      "  & \\\\ \n",
      " instruments:incumbentcandidate & $-$0.716 \\\\ \n",
      "  & (0.833) \\\\ \n",
      "  & \\\\ \n",
      " Constant & 9.591$^{***}$ \\\\ \n",
      "  & (0.328) \\\\ \n",
      "  & \\\\ \n",
      "\\hline \\\\[-1.8ex] \n",
      "Observations & 79 \\\\ \n",
      "R$^{2}$ & 0.330 \\\\ \n",
      "Adjusted R$^{2}$ & 0.284 \\\\ \n",
      "Residual Std. Error & 1.119 (df = 73) \\\\ \n",
      "F Statistic & 7.195$^{***}$ (df = 5; 73) \\\\ \n",
      "\\hline \n",
      "\\hline \\\\[-1.8ex] \n",
      "\\textit{Note:}  & \\multicolumn{1}{r}{$^{*}$p$<$0.1; $^{**}$p$<$0.05; $^{***}$p$<$0.01} \\\\ \n",
      "\\end{tabular} \n",
      "\\end{table} \n",
      "\n",
      "% Table created by stargazer v.5.2.2 by Marek Hlavac, Harvard University. E-mail: hlavac at fas.harvard.edu\n",
      "% Date and time: ven., avr. 19, 2019 - 19:40:06\n",
      "\\begin{table}[!htbp] \\centering \n",
      "  \\caption{} \n",
      "  \\label{} \n",
      "\\begin{tabular}{@{\\extracolsep{5pt}}lc} \n",
      "\\\\[-1.8ex]\\hline \n",
      "\\hline \\\\[-1.8ex] \n",
      " & \\multicolumn{1}{c}{\\textit{Dependent variable:}} \\\\ \n",
      "\\cline{2-2} \n",
      "\\\\[-1.8ex] & Y \\\\ \n",
      "\\hline \\\\[-1.8ex] \n",
      " instruments & 1.514$^{**}$ \\\\ \n",
      "  & (0.737) \\\\ \n",
      "  & \\\\ \n",
      " incumbentcandidate & 1.151$^{***}$ \\\\ \n",
      "  & (0.330) \\\\ \n",
      "  & \\\\ \n",
      " female & $-$0.121 \\\\ \n",
      "  & (0.421) \\\\ \n",
      "  & \\\\ \n",
      " ballotorder & $-$0.072 \\\\ \n",
      "  & (0.129) \\\\ \n",
      "  & \\\\ \n",
      " instruments:female & $-$1.437 \\\\ \n",
      "  & (0.877) \\\\ \n",
      "  & \\\\ \n",
      " Constant & 9.698$^{***}$ \\\\ \n",
      "  & (0.330) \\\\ \n",
      "  & \\\\ \n",
      "\\hline \\\\[-1.8ex] \n",
      "Observations & 79 \\\\ \n",
      "R$^{2}$ & 0.347 \\\\ \n",
      "Adjusted R$^{2}$ & 0.303 \\\\ \n",
      "Residual Std. Error & 1.104 (df = 73) \\\\ \n",
      "F Statistic & 7.770$^{***}$ (df = 5; 73) \\\\ \n",
      "\\hline \n",
      "\\hline \\\\[-1.8ex] \n",
      "\\textit{Note:}  & \\multicolumn{1}{r}{$^{*}$p$<$0.1; $^{**}$p$<$0.05; $^{***}$p$<$0.01} \\\\ \n",
      "\\end{tabular} \n",
      "\\end{table} \n"
     ]
    },
    {
     "data": {
      "text/plain": [
       "\n",
       "Call:\n",
       "lm(formula = Y ~ instruments + skin * ab + skin + female + incumbentcandidate + \n",
       "    ab + ballotorder, data = data)\n",
       "\n",
       "Residuals:\n",
       "    Min      1Q  Median      3Q     Max \n",
       "-4.0739 -0.4432  0.1771  0.7248  1.7448 \n",
       "\n",
       "Coefficients:\n",
       "                   Estimate Std. Error t value Pr(>|t|)    \n",
       "(Intercept)        10.28016    0.49609  20.722  < 2e-16 ***\n",
       "instruments         0.54391    0.59477   0.914 0.363559    \n",
       "skin               -0.24051    0.11692  -2.057 0.043352 *  \n",
       "ab                 -1.52046    0.96881  -1.569 0.120998    \n",
       "female             -0.27411    0.42095  -0.651 0.517040    \n",
       "incumbentcandidate  1.28205    0.32548   3.939 0.000189 ***\n",
       "ballotorder        -0.09856    0.12995  -0.758 0.450704    \n",
       "skin:ab             0.46060    0.20519   2.245 0.027901 *  \n",
       "---\n",
       "Signif. codes:  0 '***' 0.001 '**' 0.01 '*' 0.05 '.' 0.1 ' ' 1\n",
       "\n",
       "Residual standard error: 1.099 on 71 degrees of freedom\n",
       "Multiple R-squared:  0.3711,\tAdjusted R-squared:  0.3091 \n",
       "F-statistic: 5.984 on 7 and 71 DF,  p-value: 1.702e-05\n"
      ]
     },
     "metadata": {},
     "output_type": "display_data"
    },
    {
     "data": {
      "text/plain": [
       "\n",
       "Call:\n",
       "lm(formula = beaute_pond ~ skin * ab, data = data)\n",
       "\n",
       "Residuals:\n",
       "     Min       1Q   Median       3Q      Max \n",
       "-1.43819 -0.61107  0.01595  0.53446  1.69330 \n",
       "\n",
       "Coefficients:\n",
       "            Estimate Std. Error t value Pr(>|t|)\n",
       "(Intercept)  0.24592    0.27799   0.885    0.379\n",
       "skin        -0.06962    0.08004  -0.870    0.387\n",
       "ab          -0.76007    0.68919  -1.103    0.274\n",
       "skin:ab      0.16470    0.14326   1.150    0.254\n",
       "\n",
       "Residual standard error: 0.8206 on 75 degrees of freedom\n",
       "Multiple R-squared:  0.01826,\tAdjusted R-squared:  -0.02101 \n",
       "F-statistic: 0.465 on 3 and 75 DF,  p-value: 0.7076\n"
      ]
     },
     "metadata": {},
     "output_type": "display_data"
    }
   ],
   "source": [
    "reg_1 = lm(Y~instruments + incumbentcandidate + female + ballotorder ,data = data)\n",
    "res = residuals(reg_1)\n",
    "reg_u = lm(res~incumbentcandidate+ballotorder+female,data = data)\n",
    "summary(reg_u)\n",
    "stargazer(reg_1)\n",
    "\n",
    "reg_2 = lm(Y~instruments+incumbentcandidate+female+ballotorder+instruments*incumbentcandidate,data = data)\n",
    "stargazer(reg_2)\n",
    "\n",
    "reg_3 = lm(Y~instruments+incumbentcandidate+female+ballotorder+instruments*female,data = data)\n",
    "stargazer(reg_3)\n",
    "\n",
    "reg_6 = lm(Y~instruments+skin*ab+skin+female+incumbentcandidate+ab+ballotorder,data = data)\n",
    "summary(reg_6)\n",
    "\n",
    "reg = lm(beaute_pond~skin*ab, data = data)\n",
    "summary(reg)\n"
   ]
  },
  {
   "cell_type": "code",
   "execution_count": null,
   "metadata": {},
   "outputs": [],
   "source": []
  },
  {
   "cell_type": "markdown",
   "metadata": {},
   "source": [
    "### Question 9"
   ]
  },
  {
   "cell_type": "code",
   "execution_count": 90,
   "metadata": {},
   "outputs": [],
   "source": [
    "logit1 <- glm(winner ~beaute_pond+incumbentcandidate+female+ballotorder,family=binomial(link='logit'),data=data)\n",
    "\n",
    "logit2 <- glm(winner ~beaute_pond+incumbentcandidate+female+ballotorder+beaute_pond*incumbentcandidate,family=binomial(link='logit'),data=data)\n",
    "\n",
    "logit3 <- glm(winner ~beaute_pond+incumbentcandidate+female+ballotorder+beaute_pond*female,family=binomial(link='logit'),data=data)\n",
    "\n",
    "logit4 <- glm(winner ~skin+ab+incumbentcandidate+female+ballotorder,family=binomial(link='logit'),data=data)\n",
    "\n",
    "logit5 <- glm(winner ~skin+ab+incumbentcandidate+female+ballotorder+skin*ab,family=binomial(link='logit'),data=data)\n",
    "\n",
    "logit6 <- glm(winner ~beaute_pond+skin+ab+incumbentcandidate+female+ballotorder+skin*ab,family=binomial(link='logit'),data=data)\n",
    "\n",
    "logit7 <- glm(winner ~beaute_pond+skin+ab+skin*ab,family=binomial(link='logit'),data=data)"
   ]
  },
  {
   "cell_type": "code",
   "execution_count": 91,
   "metadata": {},
   "outputs": [],
   "source": [
    "#stargazer(logit1)\n",
    "#stargazer(logit2)\n",
    "#stargazer(logit3)\n",
    "#stargazer(logit4)\n",
    "#stargazer(logit5)\n",
    "#stargazer(logit6)\n",
    "\n",
    "#stargazer(logit7)"
   ]
  },
  {
   "cell_type": "markdown",
   "metadata": {},
   "source": [
    "### Question 10"
   ]
  },
  {
   "cell_type": "code",
   "execution_count": 92,
   "metadata": {},
   "outputs": [],
   "source": [
    "reg_preliminaire1 = lm(beaute_pond~ballotorder+incumbentcandidate+female+chin, data = data)\n",
    "eta1 = residuals(reg_preliminaire1)\n",
    "probit1 = glm(winner~beaute_pond+ballotorder+female+incumbentcandidate+eta1,data = data,family = binomial(link='probit'))"
   ]
  },
  {
   "cell_type": "code",
   "execution_count": 93,
   "metadata": {
    "scrolled": true
   },
   "outputs": [],
   "source": [
    "#stargazer(probit1)"
   ]
  },
  {
   "cell_type": "markdown",
   "metadata": {},
   "source": [
    "### Question 11"
   ]
  },
  {
   "cell_type": "code",
   "execution_count": 94,
   "metadata": {
    "scrolled": true
   },
   "outputs": [],
   "source": [
    "multi1 <-polr(winner2 ~ beaute_pond+skin+ab+female+skin*ab+beaute_pond*female,data=data, Hess=TRUE)"
   ]
  },
  {
   "cell_type": "code",
   "execution_count": 95,
   "metadata": {},
   "outputs": [],
   "source": [
    "#stargazer(multi1)"
   ]
  }
 ],
 "metadata": {
  "kernelspec": {
   "display_name": "R",
   "language": "R",
   "name": "ir"
  },
  "language_info": {
   "codemirror_mode": "r",
   "file_extension": ".r",
   "mimetype": "text/x-r-source",
   "name": "R",
   "pygments_lexer": "r",
   "version": "3.5.1"
  }
 },
 "nbformat": 4,
 "nbformat_minor": 2
}
