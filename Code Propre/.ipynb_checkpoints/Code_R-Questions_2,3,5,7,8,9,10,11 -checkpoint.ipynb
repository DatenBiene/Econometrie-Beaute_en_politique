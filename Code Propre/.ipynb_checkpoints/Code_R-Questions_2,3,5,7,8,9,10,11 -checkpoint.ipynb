{
 "cells": [
  {
   "cell_type": "markdown",
   "metadata": {},
   "source": [
    "# Code Projet Econometrie 2"
   ]
  },
  {
   "cell_type": "markdown",
   "metadata": {},
   "source": [
    "## Préliminaires"
   ]
  },
  {
   "cell_type": "markdown",
   "metadata": {},
   "source": [
    "### Données"
   ]
  },
  {
   "cell_type": "code",
   "execution_count": 11,
   "metadata": {},
   "outputs": [],
   "source": [
    "# Question 0\n",
    "#Préparation des donnnées avant les modèles \n",
    "\n",
    "setwd('C:/Users/Delanoue/Documents/ENSAE/S2-2A/Econométrie 2') #Pierre\n",
    "#setwd('C:/Users/User/Desktop/Econométrie 2') #Maxime\n",
    "\n",
    "data <- read.csv('data.csv', header = TRUE, sep=';')\n",
    "\n",
    "n = dim(data)[1]\n",
    "p = dim(data)[2]\n",
    "\n",
    "\n",
    "#Bon format variables \n",
    "data$ab=as.numeric(gsub(\",\", \".\", data$ab))\n",
    "data$winner2<-as.factor(data$winner2)\n",
    "\n",
    "#Creation Score de Beauté Pondéré \n",
    "norm_if39 = (data$if39-mean(data$if39))/sqrt(var(data$if39))\n",
    "norm_im24 = (data$im24-mean(data$im24))/sqrt(var(data$im24))\n",
    "norm_nif24= (data$nif24-mean(data$nif24))/sqrt(var(data$nif24))\n",
    "norm_nim40 = (data$nim40-mean(data$nim40))/sqrt(var(data$nim40))\n",
    "\n",
    "z_score = data.frame(norm_if39=norm_if39,norm_im24=norm_im24,norm_nif24=norm_nif24,norm_nim40=norm_nim40)\n",
    "\n",
    "data$beaute_pond = data$ab*((z_score$norm_im24+z_score$norm_if39)/2)+(1-data$ab)*((z_score$norm_nim40+z_score$norm_nif24)/2)"
   ]
  },
  {
   "cell_type": "markdown",
   "metadata": {},
   "source": [
    "### Libraries"
   ]
  },
  {
   "cell_type": "code",
   "execution_count": 12,
   "metadata": {
    "scrolled": true
   },
   "outputs": [
    {
     "name": "stderr",
     "output_type": "stream",
     "text": [
      "Warning message:\n",
      "\"package 'MASS' was built under R version 3.5.3\""
     ]
    }
   ],
   "source": [
    "library(stargazer)\n",
    "\n",
    "library(MASS)\n",
    "\n"
   ]
  },
  {
   "cell_type": "markdown",
   "metadata": {},
   "source": [
    "### Question 2"
   ]
  },
  {
   "cell_type": "code",
   "execution_count": null,
   "metadata": {},
   "outputs": [],
   "source": [
    "x_eval = data[,16:19]    #variables des évaluateurs\n",
    "cor = cor(x_eval, method = c(\"pearson\", \"kendall\", \"spearman\"))"
   ]
  },
  {
   "cell_type": "markdown",
   "metadata": {},
   "source": [
    "### Question 3"
   ]
  },
  {
   "cell_type": "code",
   "execution_count": 18,
   "metadata": {},
   "outputs": [
    {
     "ename": "ERROR",
     "evalue": "Error in mean(as.numeric(x_eval[, 1])): objet 'x_eval' introuvable\n",
     "output_type": "error",
     "traceback": [
      "Error in mean(as.numeric(x_eval[, 1])): objet 'x_eval' introuvable\nTraceback:\n",
      "1. mean(as.numeric(x_eval[, 1]))"
     ]
    }
   ],
   "source": [
    "moyenne_im24 = mean(as.numeric(x_eval[,1]))\n",
    "moyenne_if39 = mean(as.numeric(x_eval[,2]))\n",
    "moyenne_nif24 = mean(as.numeric(x_eval[,3]))\n",
    "moyenne_nim40 = mean(as.numeric(x_eval[,4]))\n",
    "variance_im24 = mean(as.numeric(x_eval[,1])^2)-mean(as.numeric(x_eval[,1]))^2\n",
    "variance_if39 = mean(as.numeric(x_eval[,2])^2)-mean(as.numeric(x_eval[,2]))^2\n",
    "variance_nif24= mean(as.numeric(x_eval[,3])^2)-mean(as.numeric(x_eval[,3]))^2\n",
    "variance_nim40 = mean(as.numeric(x_eval[,4])^2)-mean(as.numeric(x_eval[,4]))^2\n",
    "moyennes = c(moyenne_if39,moyenne_im24,moyenne_nif24,moyenne_nim40)\n",
    "variances = c(variance_if39,variance_im24,variance_nif24,variance_nim40)\n",
    "\n",
    "g_range <- range(0, moyennes, variances)\n",
    "plot(moyennes, type=\"o\", col=\"blue\", ylim=g_range+1.5, \n",
    "     axes=FALSE, ann=FALSE)\n",
    "lines(variances, type=\"o\", pch=22, lty=2, col=\"red\")\n",
    "axis(1, at=1:4, lab=c(\"if39\",\"im24\",\"nif24\",\"nim40\"))\n",
    "axis(2, las=1, at=4*0:g_range[2])\n",
    "box()\n",
    "title(xlab=\"Evaluateurs\", col.lab=rgb(0,0.5,0))\n",
    "title(ylab=\"Valeurs\", col.lab=rgb(0,0.5,0))\n",
    "title(main=\"Moyenne et Variance\", font.main=4)\n",
    "legend(1, g_range[2]+1.5, c(\"moyennes\",\"variances\"), cex=0.8, \n",
    "       col=c(\"blue\",\"red\"), pch=21:22, lty=1:2)\n",
    "\n",
    "#Normalisation\n",
    "\n",
    "norm_if39 = (x_eval[,1]-moyenne_if39)/sqrt(variance_if39)\n",
    "norm_im24 = (x_eval[,2]-moyenne_im24)/sqrt(variance_im24)\n",
    "norm_nif24= (x_eval[,3]-moyenne_nif24)/sqrt(variance_nif24)\n",
    "norm_nim40 = (x_eval[,4]-moyenne_nim40)/sqrt(variance_nim40)\n",
    "\n",
    "z_score = data.frame(norm_if39=norm_if39,norm_im24=norm_im24,norm_nif24=norm_nif24,norm_nim40=norm_nim40)"
   ]
  },
  {
   "cell_type": "markdown",
   "metadata": {},
   "source": [
    "### Question 4"
   ]
  },
  {
   "cell_type": "code",
   "execution_count": null,
   "metadata": {},
   "outputs": [],
   "source": [
    "female = data[,'female']\n",
    "skin = data[,'skin']\n",
    "forehead = data[,'forehead']\n",
    "nose = data[,'nose']\n",
    "chin = data[,'chin']\n",
    "par(mfrow = c(2,2))\n",
    "hist(chin)\n",
    "hist(skin)\n",
    "hist(forehead)\n",
    "hist(nose)\n",
    "\n",
    "#effet de la couleur de la peau sur les notes\n",
    "agg = aggregate(x_eval, list(data$skin), mean)\n",
    "autochtone = agg[,2]+agg[,3]\n",
    "nonautochtone = agg[,4]+agg[,5]\n",
    "g_range <- range(0, autochtone, nonautochtone)\n",
    "plot(autochtone, type=\"o\", col=\"blue\", ylim=g_range+1.5, \n",
    "     axes=FALSE, ann=FALSE)\n",
    "lines(nonautochtone, type=\"o\", pch=22, lty=2, col=\"red\")\n",
    "axis(1, at=1:11)\n",
    "axis(2, las=1, at=4*0:g_range[2])\n",
    "box()\n",
    "title(xlab=\"skin\", col.lab=rgb(0,0.5,0))\n",
    "title(ylab=\"somme_moyenne\", col.lab=rgb(0,0.5,0))\n",
    "title(main=\"influence couleur de peau sur score\", font.main=4)\n",
    "legend(1, g_range[2]+1.5, c(\"autochtone\",\"nonautochtone\"), cex=0.8, \n",
    "       col=c(\"blue\",\"red\"), pch=21:22, lty=1:2)\n",
    "\n",
    "#effet du sexe sur la notation\n",
    "\n",
    "agg_sexe = aggregate(x_eval, list(data$female), mean)\n",
    "moy_homme = agg_sexe[,2]+agg_sexe[,5]\n",
    "moy_femme = agg_sexe[,3]+agg_sexe[,4]\n",
    "par(mfrow = c(1,2))\n",
    "barplot(moy_homme,xlab = \"homme/femme\",ylab=\"somme des moyennes\")\n",
    "title(main = \"Noteurs hommes\")\n",
    "barplot(moy_femme,xlab = \"homme/femme\",ylab=\"sommes des moyennes\")\n",
    "title(main = \"Noteurs femmes\")\n"
   ]
  },
  {
   "cell_type": "markdown",
   "metadata": {},
   "source": [
    "### Question 5"
   ]
  },
  {
   "cell_type": "code",
   "execution_count": null,
   "metadata": {},
   "outputs": [],
   "source": [
    "#Question 5 : Part de vote obtenus en fonction du score de beauté\n",
    "\n",
    "#Création de la variable mean_score (moyenne des scores des 4 noteurs)\n",
    "mean_score = rowSums(z_score)/dim(z_score)[1]\n",
    "data=data.frame(data,mean_score)    #ajout de la nouvelle variable au dataframe\n",
    "data$voteshare = as.numeric(data$voteshare)\n",
    "data$mean_score=as.numeric(data$mean_score)\n",
    "\n",
    "#Regression de voteshare sur mean_score\n",
    "reg = lm(voteshare~mean_score,data = data)\n",
    "\n",
    "#On affiche la regression\n",
    "plot(x = mean_score,y = data[,'voteshare'],xlab = \"score moyen\", ylab = \"voteshare\")\n",
    "title(main = \"voteshare en fonction du score moyen\")\n",
    "abline(reg$coefficients[1],reg$coefficients[2])\n",
    "\n",
    "#Séparation candidat sortant et opposant avec la variable incumbentcandidate (=1 si sortant)\n",
    "\n",
    "data_sortant = subset(data,incumbentcandidate==1)\n",
    "data_opposant = subset(data,incumbentcandidate==0)\n",
    "\n",
    "#Régressions\n",
    "reg1 = lm(voteshare~mean_score,data = data_sortant)\n",
    "reg2 = lm(voteshare~mean_score,data = data_opposant)\n",
    "\n",
    "#On affiche les regressions\n",
    "par(mfrow = c(1,2))\n",
    "#Candidats sortants\n",
    "plot(x = data_sortant[,'mean_score'],y = data_sortant[,'voteshare'],xlab = \"score moyen\", ylab = \"voteshare\")\n",
    "title(main = \"Candidats sortants\")\n",
    "abline(reg1$coefficients[1],reg1$coefficients[2])\n",
    "\n",
    "#Candidats opposants\n",
    "\n",
    "plot(x = data_opposant[,'mean_score'],y = data_opposant[,'voteshare'],xlab = \"score moyen\", ylab = \"voteshare\")\n",
    "title(main = \"Candidats opposants\")\n",
    "abline(reg2$coefficients[1],reg2$coefficients[2])\n",
    "\n",
    "#iii)\n",
    "\n",
    "reg = lm(voteshare~skin,data = data)\n",
    "reg_sortant = lm(voteshare~skin,data = data_sortant)\n",
    "reg_opposant = lm(voteshare~skin,data = data_opposant)\n",
    "\n",
    "par(mfrow = c(1,3))\n",
    "#Tous les candidats\n",
    "plot(x = data[,'skin'],y = data[,'voteshare'],xlab = \"skin\", ylab = \"voteshare\")\n",
    "title(main = \"Tous les candidats\")\n",
    "abline(reg$coefficients[1],reg$coefficients[2])\n",
    "\n",
    "#Candidats sortants\n",
    "plot(x = data_sortant[,'skin'],y = data_sortant[,'voteshare'],xlab = \"skin\", ylab = \"voteshare\")\n",
    "title(main = \"Candidats sortants\")\n",
    "abline(reg_sortant$coefficients[1],reg_sortant$coefficients[2])\n",
    "\n",
    "#Candidats opposants\n",
    "\n",
    "plot(x = data_opposant[,'skin'],y = data_opposant[,'voteshare'],xlab = \"skin\", ylab = \"voteshare\")\n",
    "title(main = \"Candidats opposants\")\n",
    "abline(reg_opposant$coefficients[1],reg_opposant$coefficients[2])\n",
    "\n",
    "#iv)\n",
    "\n",
    "ab = data[,'ab']\n",
    "ab_sort = sort(ab)\n",
    "#On fait un groupe \n",
    "data_low_ab = subset(data,ab<0.134)\n",
    "data_high_ab = subset(data,ab>=0.134)\n",
    "\n",
    "data_low_sortant = subset(data_low_ab,incumbentcandidate==1)\n",
    "data_low_opposant = subset(data_low_ab,incumbentcandidate==0)\n",
    "data_high_sortant = subset(data_high_ab,incumbentcandidate==1)\n",
    "data_high_opposant = subset(data_high_ab,incumbentcandidate==0)\n",
    "\n",
    "#Groupe low_ab\n",
    "\n",
    "reg = lm(voteshare~skin,data = data_low_ab)\n",
    "reg_sortant = lm(voteshare~skin,data = data_low_sortant)\n",
    "reg_opposant = lm(voteshare~skin,data = data_low_opposant)\n",
    "\n",
    "par(mfrow = c(1,3))\n",
    "#Tous les candidats low ab\n",
    "plot(x = data_low_ab[,'skin'],y = data_low_ab[,'voteshare'],xlab = \"skin\", ylab = \"voteshare\")\n",
    "title(main = \"Candidats faible ab\")\n",
    "abline(reg$coefficients[1],reg$coefficients[2])\n",
    "\n",
    "#Candidats sortants low ab\n",
    "plot(x = data_low_sortant[,'skin'],y = data_low_sortant[,'voteshare'],xlab = \"skin\", ylab = \"voteshare\")\n",
    "title(main = \"Candidats sortants faible ab\")\n",
    "abline(reg_sortant$coefficients[1],reg_sortant$coefficients[2])\n",
    "\n",
    "#Candidats opposants low ab\n",
    "\n",
    "plot(x = data_low_opposant[,'skin'],y = data_low_opposant[,'voteshare'],xlab = \"skin\", ylab = \"voteshare\")\n",
    "title(main = \"Candidats opposants faible ab\")\n",
    "abline(reg_opposant$coefficients[1],reg_opposant$coefficients[2])\n",
    "\n",
    "#Groupe high_ab\n",
    "\n",
    "reg = lm(voteshare~skin,data = data_high_ab)\n",
    "reg_sortant = lm(voteshare~skin,data = data_high_sortant)\n",
    "reg_opposant = lm(voteshare~skin,data = data_high_opposant)\n",
    "\n",
    "par(mfrow = c(1,3))\n",
    "#Tous les candidats high ab\n",
    "plot(x = data_high_ab[,'skin'],y = data_high_ab[,'voteshare'],xlab = \"skin\", ylab = \"voteshare\")\n",
    "title(main = \"Candidats fort ab\")\n",
    "abline(reg$coefficients[1],reg$coefficients[2])\n",
    "\n",
    "#Candidats sortants high ab\n",
    "plot(x = data_high_sortant[,'skin'],y = data_high_sortant[,'voteshare'],xlab = \"skin\", ylab = \"voteshare\")\n",
    "title(main = \"Candidats sortants fort ab\")\n",
    "abline(reg_sortant$coefficients[1],reg_sortant$coefficients[2])\n",
    "\n",
    "#Candidats opposants high ab\n",
    "\n",
    "plot(x = data_high_opposant[,'skin'],y = data_high_opposant[,'voteshare'],xlab = \"skin\", ylab = \"voteshare\")\n",
    "title(main = \"Candidats opposants fort ab\")\n",
    "abline(reg_opposant$coefficients[1],reg_opposant$coefficients[2])\n"
   ]
  },
  {
   "cell_type": "code",
   "execution_count": null,
   "metadata": {},
   "outputs": [],
   "source": [
    "#Question 7\n",
    "install.packages(\"stargazer\")\n",
    "library(stargazer)\n",
    "\n",
    "#i)\n",
    "\n",
    "#Modèle 1: moyenne des notes pondérés\n",
    "\n",
    "data['true_voteshare'] = data['voteshare']*(1-0.0375)\n",
    "data['Y'] = log(data['true_voteshare']/0.0375,2)\n",
    "\n",
    "reg = lm(Y~note_pond + incumbentcandidate + female + ballotorder ,data = data)\n",
    "summary(reg)\n",
    "stargazer(reg)\n",
    "\n",
    "\n",
    "#Modèle 2: moyenne pondéré des notes croisée avec incumbencandidate\n",
    "\n",
    "data['note_pond'] = data['ab']*(data['im24']+data['if39'])/2+(1-data['ab'])*(data['nif24']+data['nim40'])/2\n",
    "reg = lm(Y~note_pond+incumbentcandidate+female+ballotorder+note_pond*incumbentcandidate,data = data)\n",
    "\n",
    "summary(reg)\n",
    "stargazer(reg)\n",
    "\n",
    "#Modèle 3: female x beauté\n",
    "\n",
    "reg = lm(Y~note_pond+incumbentcandidate+female+ballotorder+note_pond*female,data = data)\n",
    "\n",
    "stargazer(reg)\n",
    "\n",
    "#Modèle 4: skin\n",
    "\n",
    "reg = lm(Y~skin+female+incumbentcandidate+ab+ballotorder,data = data)\n",
    "stargazer(reg)\n",
    "\n",
    "#Modèle 5: skin et ab\n",
    "#On reprend les deux groupes faient avant: ab<0.134 et ab>=0.134\n",
    "#On code la fonction indicatrice\n",
    "indicatrice <- function(x,a)  ifelse(x >= a, 1,0)   # =1 si haut % indigène\n",
    "data['ind_ab'] = indicatrice(data['ab'],0.134)\n",
    "reg = lm(Y~skin*ind_ab,data = data)\n",
    "reg = lm(Y~skin*ab+skin+female+incumbentcandidate+ab+ballotorder,data = data)\n",
    "stargazer(reg)\n",
    "\n",
    "#Modèle 6: skin + beauté\n",
    "\n",
    "reg = lm(Y~note_pond+skin*ab+skin+female+incumbentcandidate+ab+ballotorder,data = data)\n",
    "stargazer(reg)\n",
    "\n",
    "#7-ii)\n",
    "reg = lm(Y~female+incumbentcandidate+ab+ballotorder,data = data)\n",
    "summary(reg)\n",
    "reg = lm(Y~note_pond+skin*ab,data = data)\n",
    "stargazer(reg)\n",
    "#Question 8\n",
    "#ii)Test de corrélation entre note_pond et les variables physiologiques\n",
    "reg = lm(note_pond~forehead+chin+nose+incumbentcandidate+female+ballotorder, data = data)\n",
    "summary(reg)\n",
    "\n",
    "#Test de Sargan\n",
    "reg = lm(note_pond~forehead_norm+chin_norm+female+incumbentcandidate+ballotorder,data = data)\n",
    "X = predict(object = reg, newdata = data)\n",
    "data['instruments'] = X\n",
    "reg_1 = lm(Y~instruments + incumbentcandidate + female + ballotorder ,data = data)\n",
    "res = residuals(reg_1)\n",
    "reg_u = lm(res~incumbentcandidate+ballotorder+female,data = data)\n",
    "stargazer(reg_u)\n",
    "\n",
    "\n",
    "#forehead\n",
    "#On normalise forehead pour pouvoir le mettre au carré dans la régression\n",
    "normalized = function(variable){ \n",
    "  moyenne = mean(variable)\n",
    "  variance = mean(variable^2)-mean(variable)^2\n",
    "  var_norm = (variable-moyenne)/sqrt(variance)\n",
    "  var_norm\n",
    "}\n",
    " \n",
    "data['forehead_norm'] = normalized(as.numeric(data$forehead))\n",
    "data['forehead_norm_squared'] = data['forehead_norm']^2\n",
    "reg = lm(note_pond~forehead_norm^2,data = data)\n",
    "summary(reg)\n",
    "\n",
    "#nose \n",
    "data['nose_norm'] = normalized(as.numeric(data$nose))\n",
    "data['nose_norm_squared'] = data['nose_norm']^2\n",
    "reg = lm(note_pond~nose_norm^2,data = data)\n",
    "summary(reg)\n",
    "\n",
    "#chin\n",
    "data['chin_norm'] = normalized(as.numeric(data$chin))\n",
    "data['chin_norm_squared'] = data['chin_norm']^2\n",
    "reg = lm(note_pond~chin_norm^2,data = data)\n",
    "summary(reg)\n",
    "\n",
    "\n",
    "#Les trois ensembles\n",
    "reg = lm(note_pond~forehead_norm+nose_norm+chin_norm+female+incumbentcandidate+ballotorder,data = data)\n",
    "stargazer(reg)"
   ]
  },
  {
   "cell_type": "markdown",
   "metadata": {},
   "source": [
    "### Question 8"
   ]
  },
  {
   "cell_type": "code",
   "execution_count": null,
   "metadata": {},
   "outputs": [],
   "source": [
    "#8-iii)\n",
    "reg = lm(note_pond~forehead_norm+chin_norm+female+incumbentcandidate+ballotorder,data = data)\n",
    "X = predict(object = reg, newdata = data)\n",
    "data['instruments'] = X\n",
    "reg_1 = lm(Y~instruments + incumbentcandidate + female + ballotorder ,data = data)\n",
    "res = residuals(reg_1)\n",
    "reg_u = lm(res~incumbentcandidate+ballotorder+female,data = data)\n",
    "summary(reg_u)\n",
    "stargazer(reg_1)\n",
    "\n",
    "reg_2 = lm(Y~instruments+incumbentcandidate+female+ballotorder+instruments*incumbentcandidate,data = data)\n",
    "stargazer(reg_2)\n",
    "\n",
    "reg_3 = lm(Y~instruments+incumbentcandidate+female+ballotorder+instruments*female,data = data)\n",
    "stargazer(reg_3)\n",
    "\n",
    "reg_6 = lm(Y~instruments+skin*ab+skin+female+incumbentcandidate+ab+ballotorder,data = data)\n",
    "summary(reg_6)\n",
    "\n",
    "reg = lm(note_pond~skin*ab, data = data)\n",
    "summary(reg)\n"
   ]
  },
  {
   "cell_type": "markdown",
   "metadata": {},
   "source": [
    "### Question 9"
   ]
  },
  {
   "cell_type": "code",
   "execution_count": 6,
   "metadata": {},
   "outputs": [],
   "source": [
    "logit1 <- glm(winner ~beaute_pond+incumbentcandidate+female+ballotorder,family=binomial(link='logit'),data=data)\n",
    "\n",
    "logit2 <- glm(winner ~beaute_pond+incumbentcandidate+female+ballotorder+beaute_pond*incumbentcandidate,family=binomial(link='logit'),data=data)\n",
    "\n",
    "logit3 <- glm(winner ~beaute_pond+incumbentcandidate+female+ballotorder+beaute_pond*female,family=binomial(link='logit'),data=data)\n",
    "\n",
    "logit4 <- glm(winner ~skin+ab+incumbentcandidate+female+ballotorder,family=binomial(link='logit'),data=data)\n",
    "\n",
    "logit5 <- glm(winner ~skin+ab+incumbentcandidate+female+ballotorder+skin*ab,family=binomial(link='logit'),data=data)\n",
    "\n",
    "logit6 <- glm(winner ~beaute_pond+skin+ab+incumbentcandidate+female+ballotorder+skin*ab,family=binomial(link='logit'),data=data)"
   ]
  },
  {
   "cell_type": "code",
   "execution_count": 17,
   "metadata": {},
   "outputs": [],
   "source": [
    "#stargazer(logit1)\n",
    "#stargazer(logit2)\n",
    "#stargazer(logit3)\n",
    "#stargazer(logit4)\n",
    "#stargazer(logit5)\n",
    "#stargazer(logit6)"
   ]
  },
  {
   "cell_type": "markdown",
   "metadata": {},
   "source": [
    "### Question 10"
   ]
  },
  {
   "cell_type": "code",
   "execution_count": null,
   "metadata": {},
   "outputs": [],
   "source": [
    "reg_1 = lm(note_pond~ballotorder+incumbentcandidate+female+chin, data = data)\n",
    "eta = residuals(reg_1)\n",
    "\n",
    "probit = glm(winner~note_pond+eta+ballotorder+female+incumbentcandidate,data = data,family = binomial(link='probit'))\n",
    "stargazer(probit)"
   ]
  },
  {
   "cell_type": "markdown",
   "metadata": {},
   "source": [
    "### Question 11"
   ]
  },
  {
   "cell_type": "code",
   "execution_count": 16,
   "metadata": {
    "scrolled": true
   },
   "outputs": [],
   "source": [
    "multi1 <-polr(winner2 ~ beaute_pond+skin+ab+female+skin*ab+beaute_pond*female,data=data, Hess=TRUE)"
   ]
  },
  {
   "cell_type": "code",
   "execution_count": null,
   "metadata": {},
   "outputs": [],
   "source": [
    "#stargazer(multi1)"
   ]
  }
 ],
 "metadata": {
  "kernelspec": {
   "display_name": "R",
   "language": "R",
   "name": "ir"
  },
  "language_info": {
   "codemirror_mode": "r",
   "file_extension": ".r",
   "mimetype": "text/x-r-source",
   "name": "R",
   "pygments_lexer": "r",
   "version": "3.5.1"
  }
 },
 "nbformat": 4,
 "nbformat_minor": 2
}
